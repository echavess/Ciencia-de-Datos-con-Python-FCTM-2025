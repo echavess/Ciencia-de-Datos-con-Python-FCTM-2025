{
 "cells": [
  {
   "cell_type": "markdown",
   "id": "1fb7b9eb",
   "metadata": {},
   "source": [
    "# 🧹 Notebook 3: Limpieza y transformación de datos científicos\n",
    "\n",
    "En este notebook aprenderás técnicas esenciales para preparar datos científicos antes de analizarlos o visualizarlos."
   ]
  },
  {
   "cell_type": "markdown",
   "id": "e80706d6",
   "metadata": {},
   "source": [
    "### 🎯 Objetivos de Aprendizaje\n",
    "- Identificar y tratar valores faltantes y duplicados\n",
    "- Convertir tipos de datos, especialmente fechas y horas\n",
    "- Crear nuevas columnas derivadas\n",
    "- Aplicar normalización y transformación de variables\n"
   ]
  },
  {
   "cell_type": "markdown",
   "id": "987a67a8",
   "metadata": {},
   "source": [
    "### 📦 Producto Final\n",
    "- Dataset limpio y estructurado, listo para análisis exploratorio o modelado\n"
   ]
  },
  {
   "cell_type": "markdown",
   "id": "2fa1383c",
   "metadata": {},
   "source": [
    "## 1️⃣ Simulación de un dataset con problemas comunes"
   ]
  },
  {
   "cell_type": "code",
   "execution_count": null,
   "id": "f9bf3ef0",
   "metadata": {},
   "outputs": [],
   "source": [
    "import pandas as pd\n",
    "import numpy as np\n",
    "\n",
    "# Creamos un DataFrame simulado\n",
    "np.random.seed(42)\n",
    "data = {\n",
    "    \"fecha\": [\"2023-01-01\", \"2023-01-02\", \"2023-01-03\", \"2023-01-03\", None],\n",
    "    \"estacion\": [\"A\", \"B\", \"C\", \"C\", \"A\"],\n",
    "    \"temperatura\": [22.5, np.nan, 21.0, 21.0, 23.5],\n",
    "    \"humedad\": [85, 80, 82, 82, None]\n",
    "}\n",
    "df = pd.DataFrame(data)\n",
    "\n",
    "# Mostramos el DataFrame original\n",
    "print(\"Datos originales:\")\n",
    "print(df)\n"
   ]
  },
  {
   "cell_type": "markdown",
   "id": "3bb137c9",
   "metadata": {},
   "source": [
    "## 2️⃣ Identificación y tratamiento de valores faltantes"
   ]
  },
  {
   "cell_type": "code",
   "execution_count": null,
   "id": "3cf6a4be",
   "metadata": {},
   "outputs": [],
   "source": [
    "# Verificamos cuántos valores faltantes hay por columna\n",
    "print(\"Valores faltantes por columna:\")\n",
    "print(df.isnull().sum())\n",
    "\n",
    "# Rellenamos la columna de temperatura con la media\n",
    "df[\"temperatura\"].fillna(df[\"temperatura\"].mean(), inplace=True)\n",
    "\n",
    "# Eliminamos filas donde 'fecha' o 'humedad' están vacíos\n",
    "df.dropna(subset=[\"fecha\", \"humedad\"], inplace=True)\n",
    "\n",
    "# Mostramos el resultado\n",
    "print(\"Después del tratamiento:\")\n",
    "print(df)\n"
   ]
  },
  {
   "cell_type": "markdown",
   "id": "751261f9",
   "metadata": {},
   "source": [
    "## 3️⃣ Detección y eliminación de duplicados"
   ]
  },
  {
   "cell_type": "code",
   "execution_count": null,
   "id": "fc607947",
   "metadata": {},
   "outputs": [],
   "source": [
    "# Verificamos si hay filas duplicadas\n",
    "duplicados = df.duplicated()\n",
    "print(\"Filas duplicadas:\")\n",
    "print(duplicados)\n",
    "\n",
    "# Eliminamos duplicados\n",
    "df = df.drop_duplicates()\n",
    "\n",
    "# Mostramos el resultado\n",
    "print(\"Después de eliminar duplicados:\")\n",
    "print(df)\n"
   ]
  },
  {
   "cell_type": "markdown",
   "id": "7fb03e00",
   "metadata": {},
   "source": [
    "## 4️⃣ Conversión de tipos de datos"
   ]
  },
  {
   "cell_type": "code",
   "execution_count": null,
   "id": "41c46abe",
   "metadata": {},
   "outputs": [],
   "source": [
    "# Convertimos la columna 'fecha' a tipo datetime\n",
    "df[\"fecha\"] = pd.to_datetime(df[\"fecha\"])\n",
    "\n",
    "# Verificamos el tipo de datos\n",
    "print(\"Tipos de datos:\")\n",
    "print(df.dtypes)\n"
   ]
  },
  {
   "cell_type": "markdown",
   "id": "2536c62a",
   "metadata": {},
   "source": [
    "## 5️⃣ Creación de nuevas columnas"
   ]
  },
  {
   "cell_type": "code",
   "execution_count": null,
   "id": "6b9c29d9",
   "metadata": {},
   "outputs": [],
   "source": [
    "# Creamos una columna con el mes\n",
    "df[\"mes\"] = df[\"fecha\"].dt.month\n",
    "\n",
    "# Columna de sensación térmica estimada (fórmula simplificada)\n",
    "df[\"sensacion_termica\"] = df[\"temperatura\"] + 0.1 * df[\"humedad\"]\n",
    "\n",
    "# Mostramos el DataFrame con las nuevas columnas\n",
    "print(df)\n"
   ]
  },
  {
   "cell_type": "markdown",
   "id": "101f4d00",
   "metadata": {},
   "source": [
    "## 6️⃣ Normalización y estandarización"
   ]
  },
  {
   "cell_type": "code",
   "execution_count": null,
   "id": "2ece0620",
   "metadata": {},
   "outputs": [],
   "source": [
    "# Normalizamos la temperatura entre 0 y 1\n",
    "df[\"temperatura_norm\"] = (df[\"temperatura\"] - df[\"temperatura\"].min()) / (df[\"temperatura\"].max() - df[\"temperatura\"].min())\n",
    "\n",
    "# Mostramos la nueva columna\n",
    "print(\"Temperatura normalizada:\")\n",
    "print(df[[\"temperatura\", \"temperatura_norm\"]])\n"
   ]
  },
  {
   "cell_type": "markdown",
   "id": "12f6562c",
   "metadata": {},
   "source": [
    "---\n",
    "✅ **Notebook completo.** Has aprendido cómo transformar y limpiar datos científicos. En el siguiente notebook aprenderás a crear visualizaciones impactantes para tus publicaciones."
   ]
  }
 ],
 "metadata": {},
 "nbformat": 4,
 "nbformat_minor": 5
}