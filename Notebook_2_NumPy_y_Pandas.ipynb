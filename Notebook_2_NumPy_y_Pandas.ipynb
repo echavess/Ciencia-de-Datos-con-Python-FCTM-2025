{
 "cells": [
  {
   "cell_type": "markdown",
   "id": "3def929a",
   "metadata": {},
   "source": [
    "# 📊 Notebook 2: NumPy y Pandas en profundidad\n",
    "\n",
    "Este notebook te introduce a las bibliotecas más utilizadas en ciencia de datos: **NumPy** y **Pandas**.\n"
   ]
  },
  {
   "cell_type": "markdown",
   "id": "b96b4312",
   "metadata": {},
   "source": [
    "### 🎯 Objetivos de Aprendizaje\n",
    "- Comprender la estructura y ventajas de los arrays de NumPy\n",
    "- Manipular datos en estructuras `Series` y `DataFrames` de Pandas\n",
    "- Aplicar operaciones estadísticas, de filtrado y transformación de datos\n",
    "- Cargar y explorar archivos CSV reales\n"
   ]
  },
  {
   "cell_type": "markdown",
   "id": "ada104ab",
   "metadata": {},
   "source": [
    "### 📦 Producto Final\n",
    "- Un conjunto de técnicas para explorar, transformar y resumir datasets científicos con Pandas y NumPy\n"
   ]
  },
  {
   "cell_type": "markdown",
   "id": "d0414be8",
   "metadata": {},
   "source": [
    "## 1️⃣ Introducción a NumPy"
   ]
  },
  {
   "cell_type": "code",
   "execution_count": null,
   "id": "974540d5",
   "metadata": {},
   "outputs": [],
   "source": [
    "import numpy as np\n",
    "\n",
    "# Creamos un array de 10 números enteros\n",
    "array = np.array([1, 2, 3, 4, 5, 6, 7, 8, 9, 10])\n",
    "\n",
    "# Mostramos el array\n",
    "print(\"Array original:\", array)\n",
    "\n",
    "# Operaciones vectorizadas: sumamos 5 a cada elemento\n",
    "print(\"Array + 5:\", array + 5)\n",
    "\n",
    "# Media y desviación estándar\n",
    "print(\"Media:\", np.mean(array))\n",
    "print(\"Desviación estándar:\", np.std(array))\n"
   ]
  },
  {
   "cell_type": "markdown",
   "id": "6f7019a3",
   "metadata": {},
   "source": [
    "## 2️⃣ Introducción a Pandas"
   ]
  },
  {
   "cell_type": "code",
   "execution_count": null,
   "id": "8ef86464",
   "metadata": {},
   "outputs": [],
   "source": [
    "import pandas as pd\n",
    "\n",
    "# Creamos una Serie de temperaturas\n",
    "serie = pd.Series([22.5, 23.1, 21.9, 24.3])\n",
    "\n",
    "# Mostramos la serie\n",
    "print(\"Serie de temperaturas:\")\n",
    "print(serie)\n",
    "\n",
    "# Creamos un DataFrame con datos simulados\n",
    "datos = {\n",
    "    \"Estación\": [\"A\", \"B\", \"C\", \"D\"],\n",
    "    \"Temperatura\": [22.5, 23.1, 21.9, 24.3],\n",
    "    \"Humedad\": [85, 78, 90, 70]\n",
    "}\n",
    "df = pd.DataFrame(datos)\n",
    "\n",
    "# Mostramos el DataFrame\n",
    "print(\"DataFrame de datos climáticos:\")\n",
    "print(df)\n"
   ]
  },
  {
   "cell_type": "markdown",
   "id": "ba1a02ce",
   "metadata": {},
   "source": [
    "## 3️⃣ Selección y filtrado de datos"
   ]
  },
  {
   "cell_type": "code",
   "execution_count": null,
   "id": "395bcc94",
   "metadata": {},
   "outputs": [],
   "source": [
    "# Accedemos a una columna\n",
    "print(\"Temperaturas:\", df[\"Temperatura\"])\n",
    "\n",
    "# Filtramos por condición: temperatura mayor a 23\n",
    "print(\"Filtrado - Temperatura > 23:\")\n",
    "print(df[df[\"Temperatura\"] > 23])\n",
    "\n",
    "# Accedemos a una fila por índice\n",
    "print(\"Primera fila:\")\n",
    "print(df.iloc[0])\n"
   ]
  },
  {
   "cell_type": "markdown",
   "id": "de4a9fe2",
   "metadata": {},
   "source": [
    "## 4️⃣ Estadísticas y resumen de datos"
   ]
  },
  {
   "cell_type": "code",
   "execution_count": null,
   "id": "ee2df13f",
   "metadata": {},
   "outputs": [],
   "source": [
    "# Estadísticas descriptivas\n",
    "print(\"Resumen estadístico:\")\n",
    "print(df.describe())\n",
    "\n",
    "# Media por columna\n",
    "print(\"Media de cada columna numérica:\")\n",
    "print(df.mean(numeric_only=True))\n"
   ]
  },
  {
   "cell_type": "markdown",
   "id": "597389e8",
   "metadata": {},
   "source": [
    "## 5️⃣ Carga y exploración de un archivo CSV\n",
    "Puedes descargar un dataset real desde [OpenAQ CSV Export](https://openaq.org/#/datasets)"
   ]
  },
  {
   "cell_type": "code",
   "execution_count": null,
   "id": "8553e4e5",
   "metadata": {},
   "outputs": [],
   "source": [
    "# Cargar un archivo CSV (usa tu propio archivo o descarga uno real)\n",
    "# df_calidad_aire = pd.read_csv(\"datos_calidad_aire.csv\")\n",
    "\n",
    "# Vista previa de los primeros registros\n",
    "# df_calidad_aire.head()\n"
   ]
  },
  {
   "cell_type": "markdown",
   "id": "1e3d5be0",
   "metadata": {},
   "source": [
    "## 🎯 Mini proyecto: Análisis de estaciones meteorológicas simuladas"
   ]
  },
  {
   "cell_type": "code",
   "execution_count": null,
   "id": "d609712f",
   "metadata": {},
   "outputs": [],
   "source": [
    "# Simulamos un dataset con 100 observaciones\n",
    "np.random.seed(0)\n",
    "df_meteo = pd.DataFrame({\n",
    "    \"Estación\": np.random.choice([\"A\", \"B\", \"C\", \"D\"], size=100),\n",
    "    \"Temperatura\": np.random.normal(loc=23, scale=2, size=100),\n",
    "    \"Humedad\": np.random.uniform(low=60, high=100, size=100)\n",
    "})\n",
    "\n",
    "# Calculamos promedios por estación\n",
    "promedios = df_meteo.groupby(\"Estación\").mean(numeric_only=True)\n",
    "print(\"Promedios por estación:\")\n",
    "print(promedios)\n",
    "\n",
    "# Contamos cuántas observaciones hay por estación\n",
    "conteo = df_meteo[\"Estación\"].value_counts()\n",
    "print(\"Conteo por estación:\")\n",
    "print(conteo)\n"
   ]
  },
  {
   "cell_type": "markdown",
   "id": "9707a8e9",
   "metadata": {},
   "source": [
    "---\n",
    "✅ **Notebook completo.** Ya puedes trabajar con NumPy y Pandas para cargar, transformar y explorar datos científicos. En el siguiente notebook exploraremos cómo limpiar y preparar datos para análisis más avanzados."
   ]
  }
 ],
 "metadata": {},
 "nbformat": 4,
 "nbformat_minor": 5
}