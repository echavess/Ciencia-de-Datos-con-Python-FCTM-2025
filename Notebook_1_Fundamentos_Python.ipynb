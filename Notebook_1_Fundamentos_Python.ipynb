{
 "cells": [
  {
   "cell_type": "markdown",
   "id": "bf1c3231",
   "metadata": {},
   "source": [
    "# 🐍 Notebook 1: Fundamentos de Python para Ciencia de Datos\n",
    "\n",
    "Este notebook está diseñado para introducirte a los fundamentos del lenguaje Python, con enfoque en su uso en ciencia de datos.\n"
   ]
  },
  {
   "cell_type": "markdown",
   "id": "d74ef56c",
   "metadata": {},
   "source": [
    "### 🎯 Objetivos de Aprendizaje\n",
    "- Comprender los tipos de datos básicos en Python\n",
    "- Manipular listas, diccionarios y estructuras de control\n",
    "- Definir y utilizar funciones\n",
    "- Desarrollar lógica básica de programación aplicada a datos\n"
   ]
  },
  {
   "cell_type": "markdown",
   "id": "07794742",
   "metadata": {},
   "source": [
    "### 📦 Producto Final\n",
    "- Un conjunto de funciones básicas para analizar listas de datos (temperaturas, concentraciones, etc.)\n",
    "- Familiaridad con la sintaxis y flujo lógico de Python\n"
   ]
  },
  {
   "cell_type": "markdown",
   "id": "81531dcc",
   "metadata": {},
   "source": [
    "## 1️⃣ Tipos de datos básicos en Python"
   ]
  },
  {
   "cell_type": "code",
   "execution_count": null,
   "id": "e86738ad",
   "metadata": {},
   "outputs": [],
   "source": [
    "# Números enteros\n",
    "entero = 10  # Un número entero\n",
    "\n",
    "# Números decimales (flotantes)\n",
    "decimal = 3.14  # Un número con punto decimal\n",
    "\n",
    "# Cadenas de texto\n",
    "texto = \"Hola, ciencia de datos!\"  # Una cadena de caracteres\n",
    "\n",
    "# Booleanos\n",
    "es_valido = True  # Solo puede ser True o False\n",
    "\n",
    "# Mostramos los valores\n",
    "print(entero, decimal, texto, es_valido)\n"
   ]
  },
  {
   "cell_type": "markdown",
   "id": "703a196e",
   "metadata": {},
   "source": [
    "## 2️⃣ Estructuras de datos: listas y diccionarios"
   ]
  },
  {
   "cell_type": "code",
   "execution_count": null,
   "id": "d5cb4db5",
   "metadata": {},
   "outputs": [],
   "source": [
    "# Lista de temperaturas (en grados Celsius)\n",
    "temperaturas = [22.5, 23.0, 21.8, 24.1]\n",
    "\n",
    "# Accedemos al primer elemento (índice 0)\n",
    "print(\"Primera temperatura:\", temperaturas[0])\n",
    "\n",
    "# Diccionario con datos de una estación\n",
    "estacion = {\n",
    "    \"nombre\": \"Estación A\",\n",
    "    \"latitud\": 9.93,\n",
    "    \"longitud\": -84.08,\n",
    "    \"temperatura\": 23.5\n",
    "}\n",
    "\n",
    "# Accedemos al valor asociado a la clave 'nombre'\n",
    "print(\"Nombre de la estación:\", estacion[\"nombre\"])\n"
   ]
  },
  {
   "cell_type": "markdown",
   "id": "483f4f6d",
   "metadata": {},
   "source": [
    "## 3️⃣ Estructuras de control: condicionales y bucles"
   ]
  },
  {
   "cell_type": "code",
   "execution_count": null,
   "id": "3b0db60b",
   "metadata": {},
   "outputs": [],
   "source": [
    "# Condicional: verificar si la temperatura es mayor a un umbral\n",
    "temp = 25\n",
    "if temp > 24:\n",
    "    print(\"Temperatura elevada\")\n",
    "else:\n",
    "    print(\"Temperatura normal\")\n",
    "\n",
    "# Bucle: recorrer lista de temperaturas y clasificarlas\n",
    "for t in temperaturas:\n",
    "    if t > 23:\n",
    "        print(t, \"→ Alta\")\n",
    "    else:\n",
    "        print(t, \"→ Normal\")\n"
   ]
  },
  {
   "cell_type": "markdown",
   "id": "fcbf21ec",
   "metadata": {},
   "source": [
    "## 4️⃣ Funciones: reutilizar código"
   ]
  },
  {
   "cell_type": "code",
   "execution_count": null,
   "id": "442dee74",
   "metadata": {},
   "outputs": [],
   "source": [
    "# Definimos una función para calcular la media de una lista\n",
    "def calcular_media(lista):\n",
    "    suma = sum(lista)  # Suma de todos los elementos\n",
    "    cantidad = len(lista)  # Número de elementos\n",
    "    media = suma / cantidad  # Cálculo de la media\n",
    "    return media  # Resultado\n",
    "\n",
    "# Usamos la función con nuestra lista de temperaturas\n",
    "media_temp = calcular_media(temperaturas)\n",
    "print(f\"La temperatura media es: {media_temp:.2f} °C\")\n"
   ]
  },
  {
   "cell_type": "markdown",
   "id": "a2554225",
   "metadata": {},
   "source": [
    "## 🎯 Mini proyecto: Función resumen para datos numéricos"
   ]
  },
  {
   "cell_type": "code",
   "execution_count": null,
   "id": "f8630bba",
   "metadata": {},
   "outputs": [],
   "source": [
    "# Función que genera un resumen con mínimo, máximo y media\n",
    "def resumen_datos(lista):\n",
    "    minimo = min(lista)\n",
    "    maximo = max(lista)\n",
    "    media = sum(lista) / len(lista)\n",
    "    return {\n",
    "        \"mínimo\": minimo,\n",
    "        \"máximo\": maximo,\n",
    "        \"media\": round(media, 2)\n",
    "    }\n",
    "\n",
    "# Aplicamos a nuestras temperaturas\n",
    "resumen = resumen_datos(temperaturas)\n",
    "print(\"Resumen de temperaturas:\", resumen)\n"
   ]
  },
  {
   "cell_type": "markdown",
   "id": "2b9916b2",
   "metadata": {},
   "source": [
    "---\n",
    "✅ **Has completado el primer notebook.** Ya puedes trabajar con Python de forma básica para manipular datos. En el próximo notebook, exploraremos bibliotecas especializadas como NumPy y Pandas."
   ]
  }
 ],
 "metadata": {},
 "nbformat": 4,
 "nbformat_minor": 5
}