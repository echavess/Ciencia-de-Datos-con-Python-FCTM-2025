{
 "cells": [
  {
   "cell_type": "markdown",
   "id": "5856c02a",
   "metadata": {},
   "source": [
    "# 📌 Notebook 6: Exportación de resultados y creación de informe reproducible\n",
    "\n",
    "En este notebook aprenderás cómo guardar los resultados de tu análisis en formatos útiles para informes científicos y cómo estructurar un notebook como informe."
   ]
  },
  {
   "cell_type": "markdown",
   "id": "dd7b921c",
   "metadata": {},
   "source": [
    "### 🎯 Objetivos de Aprendizaje\n",
    "- Exportar resultados estadísticos a archivos CSV\n",
    "- Guardar figuras en alta resolución\n",
    "- Documentar un análisis científico con celdas Markdown y código\n",
    "- Generar un informe reproducible desde un notebook\n"
   ]
  },
  {
   "cell_type": "markdown",
   "id": "2cdd42ac",
   "metadata": {},
   "source": [
    "### 📦 Producto Final\n",
    "- Un archivo CSV con estadísticas resumidas\n",
    "- Una figura científica en formato PNG de alta resolución\n",
    "- Un notebook estructurado como informe de análisis\n"
   ]
  },
  {
   "cell_type": "markdown",
   "id": "1f78c401",
   "metadata": {},
   "source": [
    "## 1️⃣ Simulación de datos y análisis breve"
   ]
  },
  {
   "cell_type": "code",
   "execution_count": null,
   "id": "3ec625d1",
   "metadata": {},
   "outputs": [],
   "source": [
    "import pandas as pd\n",
    "import numpy as np\n",
    "import seaborn as sns\n",
    "import matplotlib.pyplot as plt\n",
    "\n",
    "# Configurar estilo\n",
    "sns.set(style=\"whitegrid\")\n",
    "\n",
    "# Simular datos\n",
    "np.random.seed(123)\n",
    "df = pd.DataFrame({\n",
    "    \"estacion\": np.random.choice([\"A\", \"B\", \"C\"], size=120),\n",
    "    \"pH\": np.random.normal(7, 0.3, size=120),\n",
    "    \"oxigeno\": np.random.normal(8, 1, size=120)\n",
    "})\n",
    "\n",
    "# Agrupar y resumir\n",
    "resumen = df.groupby(\"estacion\").agg({\n",
    "    \"pH\": [\"mean\", \"std\"],\n",
    "    \"oxigeno\": [\"mean\", \"std\"]\n",
    "})\n",
    "\n",
    "resumen.columns = [\"pH_mean\", \"pH_std\", \"oxigeno_mean\", \"oxigeno_std\"]\n",
    "resumen.reset_index(inplace=True)\n",
    "resumen\n"
   ]
  },
  {
   "cell_type": "markdown",
   "id": "52259f4c",
   "metadata": {},
   "source": [
    "## 2️⃣ Exportar resultados a CSV"
   ]
  },
  {
   "cell_type": "code",
   "execution_count": null,
   "id": "f28b7ba3",
   "metadata": {},
   "outputs": [],
   "source": [
    "# Guardamos el resumen en un archivo CSV\n",
    "resumen.to_csv(\"resumen_resultados.csv\", index=False)\n",
    "\n",
    "print(\"Archivo CSV exportado correctamente.\")\n"
   ]
  },
  {
   "cell_type": "markdown",
   "id": "ce034733",
   "metadata": {},
   "source": [
    "## 3️⃣ Guardar figura en alta resolución"
   ]
  },
  {
   "cell_type": "code",
   "execution_count": null,
   "id": "e112471e",
   "metadata": {},
   "outputs": [],
   "source": [
    "# Crear figura\n",
    "plt.figure(figsize=(8,5), dpi=300)\n",
    "sns.boxplot(data=df, x=\"estacion\", y=\"pH\")\n",
    "plt.title(\"Distribución de pH por estación\")\n",
    "plt.ylabel(\"pH\")\n",
    "plt.xlabel(\"Estación\")\n",
    "plt.tight_layout()\n",
    "\n",
    "# Guardar imagen\n",
    "plt.savefig(\"figura_ph_publicacion.png\", dpi=300)\n",
    "plt.show()\n"
   ]
  },
  {
   "cell_type": "markdown",
   "id": "8b817fa2",
   "metadata": {},
   "source": [
    "## 4️⃣ Cómo estructurar un notebook como informe reproducible\n",
    "\n",
    "Un notebook científico debe tener las siguientes secciones:\n",
    "\n",
    "- **Título**: claro y específico\n",
    "- **Objetivo**: qué pregunta o análisis se está resolviendo\n",
    "- **Metodología**: pasos realizados (código y explicación)\n",
    "- **Resultados**: estadísticas, visualizaciones\n",
    "- **Conclusiones**: interpretación de resultados\n",
    "\n",
    "Utiliza celdas Markdown para redactar el informe entre bloques de código."
   ]
  },
  {
   "cell_type": "markdown",
   "id": "3afec20c",
   "metadata": {},
   "source": [
    "## 5️⃣ Exportar como PDF o HTML\n",
    "\n",
    "Desde Google Colab o Jupyter, puedes usar:\n",
    "- `Archivo > Descargar como > PDF (.pdf)`\n",
    "- `Archivo > Descargar como > HTML (.html)`\n",
    "\n",
    "Así puedes compartir tu análisis como un informe estático o reproducible."
   ]
  },
  {
   "cell_type": "markdown",
   "id": "b211180c",
   "metadata": {},
   "source": [
    "---\n",
    "✅ **Notebook completo.** Ya sabes cómo guardar tus resultados y documentar tus análisis como informes científicos reproducibles."
   ]
  }
 ],
 "metadata": {},
 "nbformat": 4,
 "nbformat_minor": 5
}