{
 "cells": [
  {
   "cell_type": "markdown",
   "id": "d7b4750f",
   "metadata": {},
   "source": [
    "# 🧠 Notebook 7: Retos y proyectos personales\n",
    "\n",
    "Este notebook presenta ejercicios prácticos y retos abiertos para que pongas en práctica todo lo aprendido a lo largo del curso."
   ]
  },
  {
   "cell_type": "markdown",
   "id": "0d2f6736",
   "metadata": {},
   "source": [
    "### 🎯 Objetivos de Aprendizaje\n",
    "- Aplicar habilidades de análisis de datos en contextos reales\n",
    "- Formular preguntas científicas y responderlas con datos\n",
    "- Generar figuras y reportes propios\n"
   ]
  },
  {
   "cell_type": "markdown",
   "id": "b0cf827b",
   "metadata": {},
   "source": [
    "### 📦 Producto Final\n",
    "- Soluciones personalizadas a ejercicios prácticos\n",
    "- Desarrollo de un mini proyecto final con análisis, figuras y conclusiones\n"
   ]
  },
  {
   "cell_type": "markdown",
   "id": "d7998798",
   "metadata": {},
   "source": [
    "## 📌 Ejercicio 1: Cargar y explorar un dataset real\n",
    "\n",
    "Descarga un archivo CSV desde alguna de estas fuentes:\n",
    "- [OpenAQ - Calidad del aire](https://openaq.org/#/datasets)\n",
    "- [NOAA - Clima](https://www.ncei.noaa.gov/access)\n",
    "- [Kaggle Datasets](https://www.kaggle.com/datasets)\n",
    "\n",
    "Carga el archivo en un DataFrame y responde:\n",
    "- ¿Cuántas filas y columnas tiene?\n",
    "- ¿Qué variables hay?\n",
    "- ¿Qué tipos de datos contiene?"
   ]
  },
  {
   "cell_type": "code",
   "execution_count": null,
   "id": "f306811c",
   "metadata": {},
   "outputs": [],
   "source": [
    "# Cargar tu propio archivo CSV\n",
    "# df = pd.read_csv(\"nombre_del_archivo.csv\")\n",
    "\n",
    "# Explorar el dataset\n",
    "# df.info()\n",
    "# df.head()\n"
   ]
  },
  {
   "cell_type": "markdown",
   "id": "c23a1954",
   "metadata": {},
   "source": [
    "## 🧼 Ejercicio 2: Limpieza de datos\n",
    "\n",
    "- Identifica valores faltantes y decide cómo tratarlos\n",
    "- Convierte columnas de fecha si es necesario\n",
    "- Elimina duplicados si existen"
   ]
  },
  {
   "cell_type": "code",
   "execution_count": null,
   "id": "ff872ef4",
   "metadata": {},
   "outputs": [],
   "source": [
    "# Ejemplo:\n",
    "# df.isnull().sum()\n",
    "# df[\"fecha\"] = pd.to_datetime(df[\"fecha\"])\n",
    "# df.drop_duplicates(inplace=True)\n"
   ]
  },
  {
   "cell_type": "markdown",
   "id": "edb6937b",
   "metadata": {},
   "source": [
    "## 📊 Ejercicio 3: Análisis exploratorio y visualización\n",
    "\n",
    "- Calcula estadísticas descriptivas por grupos (ej. por estación o región)\n",
    "- Crea al menos dos tipos de gráficos (líneas, cajas, dispersión, etc.)"
   ]
  },
  {
   "cell_type": "code",
   "execution_count": null,
   "id": "c486a469",
   "metadata": {},
   "outputs": [],
   "source": [
    "# Ejemplo:\n",
    "# df.groupby(\"estacion\")[\"variable\"].describe()\n",
    "# sns.boxplot(data=df, x=\"estacion\", y=\"variable\")\n",
    "# plt.show()\n"
   ]
  },
  {
   "cell_type": "markdown",
   "id": "a245e404",
   "metadata": {},
   "source": [
    "## 🚀 Proyecto final: Análisis científico aplicado\n",
    "\n",
    "Elige un dataset y desarrolla un pequeño proyecto de análisis con estas partes:\n",
    "1. **Pregunta científica:** ¿Qué quieres investigar?\n",
    "2. **Limpieza de datos:** preparación del dataset\n",
    "3. **Análisis exploratorio:** estadísticas y gráficos\n",
    "4. **Conclusiones:** resumen de hallazgos\n",
    "\n",
    "Puedes usar Markdown para redactar tu informe dentro del mismo notebook."
   ]
  },
  {
   "cell_type": "markdown",
   "id": "03f128bc",
   "metadata": {},
   "source": [
    "---\n",
    "✅ **Notebook completo.** ¡Es tu turno de aplicar todo lo que aprendiste! No hay una sola respuesta correcta: experimenta, analiza y comunica tus hallazgos."
   ]
  }
 ],
 "metadata": {},
 "nbformat": 4,
 "nbformat_minor": 5
}