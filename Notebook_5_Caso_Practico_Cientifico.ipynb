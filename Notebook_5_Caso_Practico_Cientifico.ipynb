{
 "cells": [
  {
   "cell_type": "markdown",
   "id": "7b14b071",
   "metadata": {},
   "source": [
    "# 🧬 Notebook 5: Caso práctico con datos científicos reales\n",
    "\n",
    "En este notebook aplicaremos lo aprendido para analizar un conjunto de datos simulados representando mediciones ambientales."
   ]
  },
  {
   "cell_type": "markdown",
   "id": "2ecb8904",
   "metadata": {},
   "source": [
    "### 🎯 Objetivos de Aprendizaje\n",
    "- Aplicar limpieza, transformación, análisis y visualización sobre un dataset científico\n",
    "- Interpretar los resultados de un análisis exploratorio\n",
    "- Generar visualizaciones útiles para comunicar hallazgos\n"
   ]
  },
  {
   "cell_type": "markdown",
   "id": "60973c9a",
   "metadata": {},
   "source": [
    "### 📦 Producto Final\n",
    "- Un análisis exploratorio completo de un dataset de calidad ambiental\n",
    "- Conjunto de figuras y estadísticas que podrían usarse en un informe científico\n"
   ]
  },
  {
   "cell_type": "markdown",
   "id": "e4df5cd8",
   "metadata": {},
   "source": [
    "## 1️⃣ Simulación de datos ambientales"
   ]
  },
  {
   "cell_type": "code",
   "execution_count": null,
   "id": "efe1807c",
   "metadata": {},
   "outputs": [],
   "source": [
    "import pandas as pd\n",
    "import numpy as np\n",
    "\n",
    "# Simulación de datos\n",
    "np.random.seed(10)\n",
    "df = pd.DataFrame({\n",
    "    \"fecha\": pd.date_range(start=\"2023-01-01\", periods=180, freq=\"D\"),\n",
    "    \"estacion\": np.random.choice([\"A\", \"B\", \"C\"], size=180),\n",
    "    \"pH\": np.random.normal(7, 0.3, size=180),\n",
    "    \"temperatura\": np.random.normal(23, 2, size=180),\n",
    "    \"oxigeno_disuelto\": np.random.normal(8, 1, size=180)\n",
    "})\n",
    "\n",
    "# Introducimos algunos valores nulos\n",
    "df.loc[5:10, \"pH\"] = np.nan\n",
    "df.loc[15:17, \"oxigeno_disuelto\"] = np.nan\n",
    "\n",
    "# Mostrar las primeras filas\n",
    "df.head()\n"
   ]
  },
  {
   "cell_type": "markdown",
   "id": "696adeb7",
   "metadata": {},
   "source": [
    "## 2️⃣ Limpieza de datos"
   ]
  },
  {
   "cell_type": "code",
   "execution_count": null,
   "id": "79ad1b7f",
   "metadata": {},
   "outputs": [],
   "source": [
    "# Verificamos valores nulos\n",
    "print(\"Valores nulos por columna:\")\n",
    "print(df.isnull().sum())\n",
    "\n",
    "# Rellenamos pH y oxígeno disuelto con la media\n",
    "df[\"pH\"].fillna(df[\"pH\"].mean(), inplace=True)\n",
    "df[\"oxigeno_disuelto\"].fillna(df[\"oxigeno_disuelto\"].mean(), inplace=True)\n",
    "\n",
    "# Confirmamos que no haya nulos\n",
    "df.isnull().sum()\n"
   ]
  },
  {
   "cell_type": "markdown",
   "id": "a156aeeb",
   "metadata": {},
   "source": [
    "## 3️⃣ Análisis descriptivo por estación"
   ]
  },
  {
   "cell_type": "code",
   "execution_count": null,
   "id": "cab4f605",
   "metadata": {},
   "outputs": [],
   "source": [
    "# Agrupamos por estación\n",
    "resumen = df.groupby(\"estacion\").agg({\n",
    "    \"pH\": [\"mean\", \"std\"],\n",
    "    \"temperatura\": [\"mean\", \"std\"],\n",
    "    \"oxigeno_disuelto\": [\"mean\", \"std\"]\n",
    "})\n",
    "\n",
    "# Mostramos el resumen\n",
    "resumen\n"
   ]
  },
  {
   "cell_type": "markdown",
   "id": "c7405e5c",
   "metadata": {},
   "source": [
    "## 4️⃣ Visualización de resultados"
   ]
  },
  {
   "cell_type": "code",
   "execution_count": null,
   "id": "11426c90",
   "metadata": {},
   "outputs": [],
   "source": [
    "import seaborn as sns\n",
    "import matplotlib.pyplot as plt\n",
    "\n",
    "sns.set(style=\"whitegrid\")\n",
    "\n",
    "# Boxplot de pH por estación\n",
    "plt.figure(figsize=(8,5))\n",
    "sns.boxplot(data=df, x=\"estacion\", y=\"pH\")\n",
    "plt.title(\"Distribución de pH por estación\")\n",
    "plt.ylabel(\"pH\")\n",
    "plt.xlabel(\"Estación\")\n",
    "plt.tight_layout()\n",
    "plt.show()\n",
    "\n",
    "# Gráfico de líneas de temperatura en el tiempo\n",
    "plt.figure(figsize=(10,5))\n",
    "sns.lineplot(data=df, x=\"fecha\", y=\"temperatura\", hue=\"estacion\")\n",
    "plt.title(\"Evolución temporal de la temperatura\")\n",
    "plt.ylabel(\"Temperatura (°C)\")\n",
    "plt.xlabel(\"Fecha\")\n",
    "plt.tight_layout()\n",
    "plt.show()\n"
   ]
  },
  {
   "cell_type": "markdown",
   "id": "180e26ba",
   "metadata": {},
   "source": [
    "## 5️⃣ Interpretación de resultados\n",
    "\n",
    "A partir del análisis, podemos observar diferencias entre estaciones y variaciones temporales. Este tipo de análisis es útil para:\n",
    "\n",
    "- Detectar estaciones con parámetros fuera de los rangos normales\n",
    "- Evaluar variaciones estacionales o tendencias a lo largo del tiempo\n",
    "- Comunicar hallazgos mediante gráficos claros\n"
   ]
  },
  {
   "cell_type": "markdown",
   "id": "c25a68d0",
   "metadata": {},
   "source": [
    "---\n",
    "✅ **Notebook completo.** Has aplicado tus conocimientos en un flujo de análisis realista. Ya puedes preparar análisis exploratorios para informes y publicaciones científicas."
   ]
  }
 ],
 "metadata": {},
 "nbformat": 4,
 "nbformat_minor": 5
}