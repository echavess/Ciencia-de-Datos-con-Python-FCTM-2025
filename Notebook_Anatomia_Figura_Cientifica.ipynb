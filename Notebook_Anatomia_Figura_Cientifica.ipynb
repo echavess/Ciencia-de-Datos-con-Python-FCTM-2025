{
 "cells": [
  {
   "cell_type": "markdown",
   "id": "45cc102b",
   "metadata": {},
   "source": [
    "# 🧬 Anatomía de una Figura Científica en Python\n",
    "\n",
    "Este notebook explora en detalle cómo construir una figura científica de alta calidad utilizando Python, con todos los elementos necesarios para su inclusión en un artículo académico."
   ]
  },
  {
   "cell_type": "markdown",
   "id": "cb44de6a",
   "metadata": {},
   "source": [
    "### 🖼️ Partes de una Figura Científica\n",
    "\n",
    "La figura siguiente muestra los componentes típicos de una figura científica y las funciones de `Matplotlib` que se utilizan para modificarlos.\n",
    "\n",
    "```python\n",
    "# Funciones clave:\n",
    "# ax.set_title()        → título de la figura\n",
    "# ax.set_xlabel()       → etiqueta del eje X\n",
    "# ax.set_ylabel()       → etiqueta del eje Y\n",
    "# ax.plot()             → línea de datos\n",
    "# ax.legend()           → leyenda\n",
    "```\n",
    "\n",
    "<img src=\"partes_figura_cientifica.png\" width=\"700\"/>\n"
   ]
  },
  {
   "cell_type": "markdown",
   "id": "4d79f7a6",
   "metadata": {},
   "source": [
    "### 🎯 Objetivos de Aprendizaje\n",
    "- Comprender los componentes esenciales de una figura científica\n",
    "- Aplicar buenas prácticas en la visualización de datos científicos\n",
    "- Generar figuras claras, precisas y listas para publicación\n"
   ]
  },
  {
   "cell_type": "markdown",
   "id": "4254aefe",
   "metadata": {},
   "source": [
    "### 📦 Producto Final\n",
    "- Una figura de alta calidad generada con `Matplotlib` y `Seaborn`, con estilo profesional y exportada en resolución óptima para publicaciones científicas\n"
   ]
  },
  {
   "cell_type": "markdown",
   "id": "35f0fae2",
   "metadata": {},
   "source": [
    "## 1️⃣ Contexto del análisis y simulación de datos\n",
    "Simularemos un conjunto de datos ambientales sobre tres estaciones de monitoreo."
   ]
  },
  {
   "cell_type": "code",
   "execution_count": null,
   "id": "2c85d092",
   "metadata": {},
   "outputs": [],
   "source": [
    "import numpy as np\n",
    "import pandas as pd\n",
    "import matplotlib.pyplot as plt\n",
    "import seaborn as sns\n",
    "\n",
    "# Configuración global\n",
    "sns.set(style=\"whitegrid\")\n",
    "plt.rcParams.update({\n",
    "    'font.size': 12,\n",
    "    'axes.labelsize': 14,\n",
    "    'axes.titlesize': 16,\n",
    "    'legend.fontsize': 12,\n",
    "    'xtick.labelsize': 12,\n",
    "    'ytick.labelsize': 12,\n",
    "    'figure.dpi': 300,\n",
    "    'savefig.dpi': 300\n",
    "})\n",
    "\n",
    "# Simulación de datos\n",
    "np.random.seed(42)\n",
    "df = pd.DataFrame({\n",
    "    \"Estación\": np.random.choice([\"A\", \"B\", \"C\"], size=180),\n",
    "    \"Fecha\": pd.date_range(start=\"2023-01-01\", periods=180, freq=\"D\"),\n",
    "    \"Temperatura\": np.random.normal(22.5, 1.8, size=180),\n",
    "    \"Oxígeno disuelto\": np.random.normal(7.8, 0.9, size=180)\n",
    "})\n",
    "\n",
    "df[\"Mes\"] = df[\"Fecha\"].dt.strftime(\"%b\")\n",
    "df.head()\n"
   ]
  },
  {
   "cell_type": "markdown",
   "id": "c4d33fab",
   "metadata": {},
   "source": [
    "## 2️⃣ ¿Qué debe tener una figura científica?\n",
    "\n",
    "Una figura lista para publicación debe incluir:\n",
    "\n",
    "- **Título claro y conciso**\n",
    "- **Ejes etiquetados con unidades**\n",
    "- **Leyenda explicativa (si aplica)**\n",
    "- **Estilo limpio y minimalista**\n",
    "- **Alta resolución (mínimo 300 dpi)**\n",
    "- **Colores accesibles y consistentes**\n",
    "- **Exportación en formatos sin pérdida (PNG, PDF, SVG)**\n"
   ]
  },
  {
   "cell_type": "markdown",
   "id": "35c47d6c",
   "metadata": {},
   "source": [
    "## 3️⃣ Creación de una figura profesional: comparación de temperatura por estación"
   ]
  },
  {
   "cell_type": "code",
   "execution_count": null,
   "id": "295f3e3f",
   "metadata": {},
   "outputs": [],
   "source": [
    "# Crear figura\n",
    "plt.figure(figsize=(8, 5))\n",
    "palette = [\"#4c72b0\", \"#55a868\", \"#c44e52\"]\n",
    "sns.boxplot(data=df, x=\"Estación\", y=\"Temperatura\", hue='Estación', palette=palette, legend=False)\n",
    "plt.title(\"Distribución de temperatura por estación\", fontsize=16, weight='bold')\n",
    "plt.xlabel(\"Estación\")\n",
    "plt.ylabel(\"Temperatura (°C)\")\n",
    "plt.tight_layout()\n",
    "plt.show()"
   ]
  },
  {
   "cell_type": "markdown",
   "id": "be66a81f",
   "metadata": {},
   "source": [
    "## 4️⃣ Añadir anotaciones y mejoras"
   ]
  },
  {
   "cell_type": "code",
   "execution_count": null,
   "id": "dd8b2590",
   "metadata": {},
   "outputs": [],
   "source": [
    "plt.figure(figsize=(8, 5))\n",
    "sns.boxplot(data=df, x=\"Estación\", y=\"Temperatura\", hue='Estación', palette=palette, legend=False)\n",
    "plt.axhline(25, ls='--', color='gray', label='Límite crítico')\n",
    "plt.title(\"Distribución de temperatura por estación\", fontsize=16, weight='bold')\n",
    "plt.xlabel(\"Estación\")\n",
    "plt.ylabel(\"Temperatura (°C)\")\n",
    "plt.legend(loc='upper right')\n",
    "plt.tight_layout()\n",
    "plt.show()"
   ]
  },
  {
   "cell_type": "markdown",
   "id": "aaac7c7d",
   "metadata": {},
   "source": [
    "## 5️⃣ Exportar figura para publicación"
   ]
  },
  {
   "cell_type": "code",
   "execution_count": null,
   "id": "3697c8fc",
   "metadata": {},
   "outputs": [],
   "source": [
    "fig = plt.figure(figsize=(8, 5))\n",
    "sns.boxplot(data=df, x=\"Estación\", y=\"Temperatura\", hue='Estación', palette=palette, legend=False)\n",
    "plt.axhline(25, ls='--', color='gray', label='Límite crítico')\n",
    "plt.title(\"Distribución de temperatura por estación\", fontsize=16, weight='bold')\n",
    "plt.xlabel(\"Estación\")\n",
    "plt.ylabel(\"Temperatura (°C)\")\n",
    "plt.legend(loc='upper right')\n",
    "plt.tight_layout()\n",
    "\n",
    "# Exportar como PNG y PDF\n",
    "fig.savefig(\"figura_cientifica.png\", dpi=300)\n",
    "fig.savefig(\"figura_cientifica.pdf\", dpi=300)\n",
    "plt.show()"
   ]
  },
  {
   "cell_type": "markdown",
   "id": "543c54bd",
   "metadata": {},
   "source": [
    "---\n",
    "✅ **Notebook completo.** Has creado una figura científica profesional, aplicando buenas prácticas de visualización y preparando la imagen para su publicación en alta calidad."
   ]
  }
 ],
 "metadata": {},
 "nbformat": 4,
 "nbformat_minor": 5
}
