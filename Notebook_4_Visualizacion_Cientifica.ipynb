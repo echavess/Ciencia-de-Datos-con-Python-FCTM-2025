{
 "cells": [
  {
   "cell_type": "markdown",
   "id": "8faa3ef6",
   "metadata": {},
   "source": [
    "# 📈 Notebook 4: Visualización científica con Matplotlib y Seaborn\n",
    "\n",
    "Este notebook te enseñará cómo crear figuras científicas claras y efectivas para publicaciones usando `Matplotlib` y `Seaborn`."
   ]
  },
  {
   "cell_type": "markdown",
   "id": "525e8bdd",
   "metadata": {},
   "source": [
    "### 🎯 Objetivos de Aprendizaje\n",
    "- Crear gráficos de líneas, dispersión, cajas, violines y mapas de calor\n",
    "- Personalizar etiquetas, títulos, estilos y tamaños\n",
    "- Generar figuras reproducibles y exportarlas en alta resolución\n",
    "- Aplicar buenas prácticas para visualización científica\n"
   ]
  },
  {
   "cell_type": "markdown",
   "id": "41079e91",
   "metadata": {},
   "source": [
    "### 📦 Producto Final\n",
    "- Un conjunto de figuras científicas listas para incluir en informes o publicaciones académicas\n"
   ]
  },
  {
   "cell_type": "markdown",
   "id": "dc5215eb",
   "metadata": {},
   "source": [
    "## 1️⃣ Preparación de entorno y datos"
   ]
  },
  {
   "cell_type": "code",
   "execution_count": null,
   "id": "04140fb9",
   "metadata": {},
   "outputs": [],
   "source": [
    "import pandas as pd\n",
    "import numpy as np\n",
    "import matplotlib.pyplot as plt\n",
    "import seaborn as sns\n",
    "\n",
    "# Configuración de estilo general\n",
    "sns.set(style=\"whitegrid\")\n",
    "\n",
    "# Simulamos un dataset\n",
    "np.random.seed(1)\n",
    "df = pd.DataFrame({\n",
    "    \"Estación\": np.random.choice([\"A\", \"B\", \"C\"], size=150),\n",
    "    \"Temperatura\": np.random.normal(23, 2, size=150),\n",
    "    \"Humedad\": np.random.uniform(60, 100, size=150),\n",
    "    \"Fecha\": pd.date_range(start=\"2023-01-01\", periods=150, freq=\"D\")\n",
    "})\n",
    "\n",
    "# Mostramos las primeras filas\n",
    "df.head()\n"
   ]
  },
  {
   "cell_type": "markdown",
   "id": "65f15c6d",
   "metadata": {},
   "source": [
    "## 2️⃣ Gráfico de líneas"
   ]
  },
  {
   "cell_type": "code",
   "execution_count": null,
   "id": "037b3b28",
   "metadata": {},
   "outputs": [],
   "source": [
    "# Promediamos temperatura por semana\n",
    "df['Semana'] = df['Fecha'].dt.isocalendar().week\n",
    "df_linea = df.groupby(\"Semana\").mean(numeric_only=True)\n",
    "\n",
    "# Graficamos la evolución de la temperatura promedio semanal\n",
    "plt.figure(figsize=(8, 5))\n",
    "sns.lineplot(x=df_linea.index, y=\"Temperatura\", data=df_linea)\n",
    "plt.title(\"Temperatura promedio por semana\")\n",
    "plt.xlabel(\"Semana del año\")\n",
    "plt.ylabel(\"Temperatura (°C)\")\n",
    "plt.tight_layout()\n",
    "plt.show()\n"
   ]
  },
  {
   "cell_type": "markdown",
   "id": "a6401098",
   "metadata": {},
   "source": [
    "## 3️⃣ Gráfico de dispersión"
   ]
  },
  {
   "cell_type": "code",
   "execution_count": null,
   "id": "fe5a37ec",
   "metadata": {},
   "outputs": [],
   "source": [
    "# Relación entre temperatura y humedad\n",
    "plt.figure(figsize=(7, 5))\n",
    "sns.scatterplot(data=df, x=\"Temperatura\", y=\"Humedad\", hue=\"Estación\")\n",
    "plt.title(\"Relación entre Temperatura y Humedad\")\n",
    "plt.xlabel(\"Temperatura (°C)\")\n",
    "plt.ylabel(\"Humedad (%)\")\n",
    "plt.legend(title=\"Estación\")\n",
    "plt.tight_layout()\n",
    "plt.show()\n"
   ]
  },
  {
   "cell_type": "markdown",
   "id": "9acdb081",
   "metadata": {},
   "source": [
    "## 4️⃣ Boxplot para comparar estaciones"
   ]
  },
  {
   "cell_type": "code",
   "execution_count": null,
   "id": "541c4b2b",
   "metadata": {},
   "outputs": [],
   "source": [
    "# Comparación de temperatura por estación\n",
    "plt.figure(figsize=(7, 5))\n",
    "sns.boxplot(data=df, x=\"Estación\", y=\"Temperatura\")\n",
    "plt.title(\"Distribución de temperatura por estación\")\n",
    "plt.ylabel(\"Temperatura (°C)\")\n",
    "plt.xlabel(\"Estación\")\n",
    "plt.tight_layout()\n",
    "plt.show()\n"
   ]
  },
  {
   "cell_type": "markdown",
   "id": "de0c2d54",
   "metadata": {},
   "source": [
    "## 5️⃣ Violinplot como alternativa visual"
   ]
  },
  {
   "cell_type": "code",
   "execution_count": null,
   "id": "90c8938f",
   "metadata": {},
   "outputs": [],
   "source": [
    "plt.figure(figsize=(7, 5))\n",
    "sns.violinplot(data=df, x=\"Estación\", y=\"Temperatura\", inner=\"quartile\")\n",
    "plt.title(\"Distribución de temperatura por estación (Violinplot)\")\n",
    "plt.tight_layout()\n",
    "plt.show()\n"
   ]
  },
  {
   "cell_type": "markdown",
   "id": "48175198",
   "metadata": {},
   "source": [
    "## 6️⃣ Heatmap: Correlaciones entre variables"
   ]
  },
  {
   "cell_type": "code",
   "execution_count": null,
   "id": "7f7273bd",
   "metadata": {},
   "outputs": [],
   "source": [
    "# Calculamos la matriz de correlación\n",
    "corr = df[[\"Temperatura\", \"Humedad\"]].corr()\n",
    "\n",
    "# Graficamos el mapa de calor\n",
    "plt.figure(figsize=(5, 4))\n",
    "sns.heatmap(corr, annot=True, cmap=\"coolwarm\", fmt=\".2f\")\n",
    "plt.title(\"Matriz de correlación\")\n",
    "plt.tight_layout()\n",
    "plt.show()\n"
   ]
  },
  {
   "cell_type": "markdown",
   "id": "dfbc213b",
   "metadata": {},
   "source": [
    "## 7️⃣ Exportar figura en alta resolución"
   ]
  },
  {
   "cell_type": "code",
   "execution_count": null,
   "id": "b17acc88",
   "metadata": {},
   "outputs": [],
   "source": [
    "# Creamos una figura y la guardamos como imagen\n",
    "plt.figure(figsize=(7, 5), dpi=300)\n",
    "sns.boxplot(data=df, x=\"Estación\", y=\"Temperatura\")\n",
    "plt.title(\"Figura lista para publicación\")\n",
    "plt.ylabel(\"Temperatura (°C)\")\n",
    "plt.xlabel(\"Estación\")\n",
    "plt.tight_layout()\n",
    "plt.savefig(\"figura_publicacion.png\", dpi=300)\n",
    "plt.show()\n"
   ]
  },
  {
   "cell_type": "markdown",
   "id": "07b294fb",
   "metadata": {},
   "source": [
    "## ✅ Buenas prácticas para visualización científica\n",
    "- Usar títulos claros y unidades en los ejes\n",
    "- Evitar exceso de colores o elementos decorativos innecesarios\n",
    "- Preferir estilos sobrios (como `whitegrid` o `ticks`)\n",
    "- Exportar siempre en alta resolución (`dpi=300`)\n"
   ]
  },
  {
   "cell_type": "markdown",
   "id": "c869c0a8",
   "metadata": {},
   "source": [
    "---\n",
    "✅ **Notebook completo.** Ahora sabes cómo crear figuras científicas efectivas y profesionales usando Python. ¡Listas para publicar o presentar!"
   ]
  }
 ],
 "metadata": {},
 "nbformat": 4,
 "nbformat_minor": 5
}